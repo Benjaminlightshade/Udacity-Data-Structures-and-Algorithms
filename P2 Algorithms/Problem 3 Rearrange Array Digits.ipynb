{
 "cells": [
  {
   "cell_type": "code",
   "execution_count": 5,
   "metadata": {},
   "outputs": [
    {
     "name": "stdout",
     "output_type": "stream",
     "text": [
      "Pass\n",
      "Pass\n",
      "Pass\n",
      "Pass\n",
      "Pass\n"
     ]
    }
   ],
   "source": [
    "def rearrange_digits(input_list):\n",
    "    \"\"\"\n",
    "    Rearrange Array Elements so as to form two number such that their sum is maximum.\n",
    "\n",
    "    Args:\n",
    "       input_list(list): Input List\n",
    "    Returns:\n",
    "       (int),(int): Two maximum sums\n",
    "    \"\"\"\n",
    "    # Merge sort the array\n",
    "    sorted_list = merge_sort(input_list)    \n",
    "    # Split the numbers into 2 arrays \n",
    "    num1 , num2 = \"\" , \"\"\n",
    "    for index,num in enumerate(sorted_list):\n",
    "        if index % 2 == 0:\n",
    "            num1 = str(num) + num1 \n",
    "        else: \n",
    "            num2 = str(num) + num2 \n",
    "\n",
    "    # print(num1, num2)\n",
    "    return [int(num1), int(num2)]\n",
    "\n",
    "\n",
    "def merge_sort(input_list):\n",
    "\n",
    "    if len(input_list) <= 1:\n",
    "        return input_list\n",
    "\n",
    "    midIndex = len(input_list) // 2\n",
    "    leftarr = merge_sort(input_list[0:midIndex])\n",
    "    rightarr = merge_sort(input_list[midIndex:])\n",
    "\n",
    "    return merge(leftarr, rightarr)\n",
    "    \n",
    "def merge(leftarr, rightarr):\n",
    "    \n",
    "    merged = []\n",
    "    left_index = 0\n",
    "    right_index = 0\n",
    "    \n",
    "    while left_index < len(leftarr) and right_index < len(rightarr):\n",
    "        if leftarr[left_index] > rightarr[right_index]:\n",
    "            merged.append(rightarr[right_index])\n",
    "            right_index += 1\n",
    "        else:\n",
    "            merged.append(leftarr[left_index])\n",
    "            left_index += 1\n",
    "\n",
    "    merged += leftarr[left_index:]\n",
    "    merged += rightarr[right_index:]\n",
    "        \n",
    "    return merged\n",
    "\n",
    "def test_function(test_case):\n",
    "    output = rearrange_digits(test_case[0])\n",
    "    solution = test_case[1]\n",
    "    if sum(output) == sum(solution):\n",
    "        print(\"Pass\")\n",
    "    else:\n",
    "        print(\"Fail\")\n",
    "\n",
    "test_function([[1, 2, 3, 4, 5], [542, 31]])\n",
    "test_function([[4, 6, 2, 5, 9, 8], [964, 852]])\n",
    "\n",
    "# My test cases\n",
    "test_function([[9,8,7,6,5,4,3,2,1,0], [97531, 86420]])\n",
    "test_function([[0,2,4,6,8,1,3,5,7,9], [97531, 86420]])\n",
    "test_function([[9,5,1,9,5,1], [951, 951]])"
   ]
  },
  {
   "cell_type": "code",
   "execution_count": null,
   "metadata": {},
   "outputs": [],
   "source": []
  }
 ],
 "metadata": {
  "kernelspec": {
   "display_name": "Python 3",
   "language": "python",
   "name": "python3"
  },
  "language_info": {
   "codemirror_mode": {
    "name": "ipython",
    "version": 3
   },
   "file_extension": ".py",
   "mimetype": "text/x-python",
   "name": "python",
   "nbconvert_exporter": "python",
   "pygments_lexer": "ipython3",
   "version": "3.11.0"
  }
 },
 "nbformat": 4,
 "nbformat_minor": 2
}
