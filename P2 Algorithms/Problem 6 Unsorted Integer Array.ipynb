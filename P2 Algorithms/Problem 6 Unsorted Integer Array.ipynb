{
 "cells": [
  {
   "cell_type": "code",
   "execution_count": 8,
   "metadata": {},
   "outputs": [
    {
     "name": "stdout",
     "output_type": "stream",
     "text": [
      "Pass\n",
      "Pass\n",
      "Pass\n",
      "Pass\n"
     ]
    }
   ],
   "source": [
    "def get_min_max(ints):\n",
    "   \"\"\"\n",
    "   Return a tuple(min, max) out of list of unsorted integers.\n",
    "   \n",
    "   Args:\n",
    "      ints(list): list of integers containing one or more integers\n",
    "   \"\"\"\n",
    "   # Returns the min and max in a single traversal\n",
    "   # without sorting the list of ints\n",
    "   min, max = ints[0], ints [0]\n",
    "   for int in ints:\n",
    "      if min > int:\n",
    "         min = int\n",
    "      if max < int:\n",
    "         max = int\n",
    "   \n",
    "   return min, max\n",
    "\n",
    "### Example Test Case of Ten Integers\n",
    "import random\n",
    "\n",
    "l = [i for i in range(0, 10)]  # a list containing 0 - 9\n",
    "random.shuffle(l)\n",
    "\n",
    "print (\"Pass\" if ((0, 9) == get_min_max(l)) else \"Fail\")\n",
    "\n",
    "# My additional test cases\n",
    "l1 = [i for i in range(0, 1001)]  # a list containing 0 - 1000\n",
    "print (\"Pass\" if ((0, 1000) == get_min_max(l1)) else \"Fail\")\n",
    "l2 = [i for i in range(0, 1)]  # a list containing 0 \n",
    "print (\"Pass\" if ((0, 0) == get_min_max(l2)) else \"Fail\")\n",
    "l3 = [i for i in range(0, 2)]  # a list containing 0 - 1\n",
    "print (\"Pass\" if ((0, 1) == get_min_max(l3)) else \"Fail\")"
   ]
  },
  {
   "cell_type": "code",
   "execution_count": null,
   "metadata": {},
   "outputs": [],
   "source": []
  }
 ],
 "metadata": {
  "kernelspec": {
   "display_name": "Python 3",
   "language": "python",
   "name": "python3"
  },
  "language_info": {
   "codemirror_mode": {
    "name": "ipython",
    "version": 3
   },
   "file_extension": ".py",
   "mimetype": "text/x-python",
   "name": "python",
   "nbconvert_exporter": "python",
   "pygments_lexer": "ipython3",
   "version": "3.11.0"
  }
 },
 "nbformat": 4,
 "nbformat_minor": 2
}
