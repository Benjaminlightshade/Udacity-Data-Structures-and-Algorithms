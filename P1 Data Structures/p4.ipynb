{
 "cells": [
  {
   "cell_type": "code",
   "execution_count": 15,
   "metadata": {},
   "outputs": [],
   "source": [
    "class Group(object):\n",
    "    def __init__(self, _name):\n",
    "        self.name = _name\n",
    "        self.groups = []\n",
    "        self.users = []\n",
    "\n",
    "    def add_group(self, group):\n",
    "        self.groups.append(group)\n",
    "\n",
    "    def add_user(self, user):\n",
    "        self.users.append(user)\n",
    "\n",
    "    def get_groups(self):\n",
    "        return self.groups\n",
    "\n",
    "    def get_users(self):\n",
    "        return self.users\n",
    "\n",
    "    def get_name(self):\n",
    "        return self.name\n",
    "\n",
    "\n",
    "parent = Group(\"parent\")\n",
    "child = Group(\"child\")\n",
    "sub_child = Group(\"subchild\")\n",
    "\n",
    "sub_child_user = \"sub_child_user\"\n",
    "sub_child.add_user(sub_child_user)\n",
    "\n",
    "child.add_group(sub_child)\n",
    "parent.add_group(child)\n",
    "\n",
    "child.add_user(\"childuser1\")\n",
    "child.add_user(\"childuser2\")\n",
    "child.add_user(\"childuser3\")\n",
    "\n",
    "child2 = Group(\"child2\")\n",
    "child2.add_user(\"child2user\")\n",
    "parent.add_group(child2)\n",
    "\n"
   ]
  },
  {
   "cell_type": "code",
   "execution_count": 16,
   "metadata": {},
   "outputs": [
    {
     "name": "stdout",
     "output_type": "stream",
     "text": [
      "True\n",
      "False\n",
      "True\n",
      "False\n",
      "True\n"
     ]
    }
   ],
   "source": [
    "def is_user_in_group(user, group):\n",
    "    \"\"\"\n",
    "    Return True if user is in the group, False otherwise.\n",
    "\n",
    "    Args:\n",
    "      user(str): user name/id\n",
    "      group(class:Group): group to check user membership against\n",
    "    \"\"\"\n",
    "    # check if user is in group\n",
    "    if user in group.get_users():\n",
    "        return True\n",
    "    \n",
    "    # Check users in other groups\n",
    "    for subGroup in group.groups:\n",
    "        if is_user_in_group(user, subGroup) == True:\n",
    "            return True\n",
    "\n",
    "    #End condition - no user found and no more subgroup\n",
    "    return False\n",
    "\n",
    "\n",
    "## Add your own test cases: include at least three test cases\n",
    "## and two of them must include edge cases, such as null, empty or very large values\n",
    "\n",
    "## Test Case 1\n",
    "# Returns True - user exists in subgroup\n",
    "print(is_user_in_group(\"sub_child_user\", parent))\n",
    "\n",
    "## Test Case 2\n",
    "# Returns False - user does not exist anywhere\n",
    "print(is_user_in_group(\"nobody\", parent))\n",
    "\n",
    "## Test Case 3\n",
    "# Returns True - user exists in list of users in a subgroup\n",
    "print(is_user_in_group(\"childuser3\", parent))\n",
    "\n",
    "## Test Case 4\n",
    "# Returns False - empty group with no users\n",
    "empty_group = Group(\"empty\")\n",
    "print(is_user_in_group(\"childuser3\", empty_group))\n",
    "\n",
    "## Test Case 5\n",
    "# Returns True - user in a group that is part of a list of groups\n",
    "print(is_user_in_group(\"child2user\", parent))\n",
    "\n"
   ]
  },
  {
   "cell_type": "code",
   "execution_count": null,
   "metadata": {},
   "outputs": [],
   "source": []
  }
 ],
 "metadata": {
  "kernelspec": {
   "display_name": "Python 3",
   "language": "python",
   "name": "python3"
  },
  "language_info": {
   "codemirror_mode": {
    "name": "ipython",
    "version": 3
   },
   "file_extension": ".py",
   "mimetype": "text/x-python",
   "name": "python",
   "nbconvert_exporter": "python",
   "pygments_lexer": "ipython3",
   "version": "3.11.0"
  }
 },
 "nbformat": 4,
 "nbformat_minor": 2
}
