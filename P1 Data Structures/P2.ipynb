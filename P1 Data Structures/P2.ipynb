{
 "cells": [
  {
   "cell_type": "code",
   "execution_count": 66,
   "metadata": {},
   "outputs": [
    {
     "name": "stdout",
     "output_type": "stream",
     "text": [
      "['./testdir/subdir1/a.c', './testdir/subdir3/subsubdir1/b.c', './testdir/subdir5/a.c', './testdir/t1.c']\n"
     ]
    }
   ],
   "source": [
    "import os\n",
    "\n",
    "def find_files(suffix, path):\n",
    "    \"\"\"\n",
    "    Find all files beneath path with file name suffix.\n",
    "\n",
    "    Note that a path may contain further subdirectories\n",
    "    and those subdirectories may also contain further subdirectories.\n",
    "\n",
    "    There are no limit to the depth of the subdirectories can be.\n",
    "\n",
    "    Args:\n",
    "      suffix(str): suffix if the file name to be found\n",
    "      path(str): path of the file system\n",
    "\n",
    "    Returns:\n",
    "       a list of paths\n",
    "    \"\"\"\n",
    "\n",
    "    fileList = []\n",
    "\n",
    "    # If path does not exist\n",
    "    if not os.path.exists(path):\n",
    "        return fileList\n",
    "\n",
    "    if os.path.isfile(path) and path.endswith(suffix):\n",
    "         return path\n",
    "\n",
    "    for item in os.listdir(path):\n",
    "        currentpath = path + \"/\" + item\n",
    "        if item.endswith(suffix) and os.path.isfile(currentpath):\n",
    "                fileList.append(currentpath)\n",
    "        if os.path.isdir(currentpath):\n",
    "            fileList.extend(find_files(suffix, currentpath))        \n",
    "    return fileList\n",
    "\n",
    "print(find_files(\".c\", \"./testdir\"))"
   ]
  },
  {
   "cell_type": "code",
   "execution_count": 63,
   "metadata": {},
   "outputs": [
    {
     "name": "stdout",
     "output_type": "stream",
     "text": [
      "[]\n"
     ]
    }
   ],
   "source": [
    "## Test Case 1 : path does not exist\n",
    "print(find_files(\".c\", \"./testdir2\")) "
   ]
  },
  {
   "cell_type": "code",
   "execution_count": 67,
   "metadata": {},
   "outputs": [
    {
     "name": "stdout",
     "output_type": "stream",
     "text": [
      "./testdir/t1.c\n"
     ]
    }
   ],
   "source": [
    "## Test Case 2 : path is a file\n",
    "print(find_files(\".c\", \"./testdir/t1.c\"))"
   ]
  },
  {
   "cell_type": "code",
   "execution_count": 68,
   "metadata": {},
   "outputs": [
    {
     "name": "stdout",
     "output_type": "stream",
     "text": [
      "[]\n"
     ]
    }
   ],
   "source": [
    "## Test Case 3 : There are no files with the provided suffix\n",
    "print(find_files(\".txt\", \"./testdir\"))\n"
   ]
  },
  {
   "cell_type": "code",
   "execution_count": null,
   "metadata": {},
   "outputs": [],
   "source": []
  }
 ],
 "metadata": {
  "kernelspec": {
   "display_name": "Python 3",
   "language": "python",
   "name": "python3"
  },
  "language_info": {
   "codemirror_mode": {
    "name": "ipython",
    "version": 3
   },
   "file_extension": ".py",
   "mimetype": "text/x-python",
   "name": "python",
   "nbconvert_exporter": "python",
   "pygments_lexer": "ipython3",
   "version": "3.11.0"
  }
 },
 "nbformat": 4,
 "nbformat_minor": 2
}
